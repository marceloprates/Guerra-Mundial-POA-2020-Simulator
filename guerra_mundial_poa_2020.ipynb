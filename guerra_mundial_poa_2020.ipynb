{
 "cells": [
  {
   "cell_type": "code",
   "execution_count": 1,
   "metadata": {},
   "outputs": [],
   "source": [
    "import os # To check whether file exists\n",
    "import json # To save GPS coordinates as a JSON file\n",
    "from geopy.geocoders import Nominatim # To get districts' GPS coordinates\n",
    "import numpy as np # Math stuff\n",
    "from matplotlib import pyplot as plt # To plot histogram"
   ]
  },
  {
   "cell_type": "code",
   "execution_count": 10,
   "metadata": {},
   "outputs": [],
   "source": [
    "# To compute distance between two (lat,long) coords on the globe (for those of us who believe the earth is round)\n",
    "def haversine_distance(lat1, long1, lat2, long2):\n",
    "    phi1 = (90.0 - lat1)*np.pi/180.0\n",
    "    phi2 = (90.0 - lat2)*np.pi/180.0\n",
    "    theta1 = long1*np.pi/180.0\n",
    "    theta2 = long2*np.pi/180.0\n",
    "    cos = min(1,np.sin(phi1)*np.sin(phi2)*np.cos(theta1 - theta2) + np.cos(phi1)*np.cos(phi2))\n",
    "    arc = np.arccos(cos)\n",
    "    return 6373*arc\n",
    "#end"
   ]
  },
  {
   "cell_type": "code",
   "execution_count": 3,
   "metadata": {},
   "outputs": [],
   "source": [
    "# Obtain district names\n",
    "district_names = [x.strip() for x in open('bairros.txt','r').readlines()]"
   ]
  },
  {
   "cell_type": "code",
   "execution_count": 4,
   "metadata": {},
   "outputs": [
    {
     "name": "stderr",
     "output_type": "stream",
     "text": [
      "/home/marcelo/anaconda3/lib/python3.6/site-packages/ipykernel_launcher.py:2: DeprecationWarning: Using Nominatim with the default \"geopy/1.19.0\" `user_agent` is strongly discouraged, as it violates Nominatim's ToS https://operations.osmfoundation.org/policies/nominatim/ and may possibly cause 403 and 429 HTTP errors. Please specify a custom `user_agent` with `Nominatim(user_agent=\"my-application\")` or by overriding the default `user_agent`: `geopy.geocoders.options.default_user_agent = \"my-application\"`. In geopy 2.0 this will become an exception.\n",
      "  \n"
     ]
    }
   ],
   "source": [
    "# Obtain geolocator\n",
    "geolocator = Nominatim()"
   ]
  },
  {
   "cell_type": "code",
   "execution_count": 8,
   "metadata": {},
   "outputs": [],
   "source": [
    "# Save district locations to dict\n",
    "if not os.path.isfile('district_locations.json'):\n",
    "    district_locations = {}\n",
    "    for district in district_names:\n",
    "        location = geolocator.geocode(f'{district}, Porto Alegre')\n",
    "        district_locations[district] = (location.latitude, location.longitude)\n",
    "        print(f'{district} lat={location.latitude} lon={location.longitude}')\n",
    "    #end\n",
    "    json.dump(district_locations,open('district_locations.json','w'))\n",
    "#end\n",
    "district_locations = json.load(open('district_locations.json','r'))"
   ]
  },
  {
   "cell_type": "code",
   "execution_count": 11,
   "metadata": {},
   "outputs": [],
   "source": [
    "# Compute dict mapping each district name to a list of (district,distance) tuples, sorted by distance\n",
    "distances = { d1:sorted([ (d2,haversine_distance(*district_locations[d1],*district_locations[d2])) for d2 in district_names ], key=lambda x: x[1]) for d1 in district_names }"
   ]
  },
  {
   "cell_type": "code",
   "execution_count": 12,
   "metadata": {},
   "outputs": [],
   "source": [
    "# Run a war simulation\n",
    "def simulate():\n",
    "    # Init map of occupations\n",
    "    occupied_by = { district:district for district in district_names }\n",
    "\n",
    "    # List of districts which are still in the game\n",
    "    players = district_names.copy()\n",
    "\n",
    "    while len(players) > 1:\n",
    "        # Choose a random district\n",
    "        random_district = np.random.choice(district_names)\n",
    "        # Get closest enemy district\n",
    "        for district,_ in distances[random_district]:\n",
    "            if occupied_by[district] != occupied_by[random_district]:\n",
    "                closest_enemy = district\n",
    "                break\n",
    "            #end\n",
    "        #end\n",
    "        # If random district is occupied, the occupier becomes the attacking district\n",
    "        attacking_district = occupied_by[random_district]\n",
    "        # If closest enemy is occupied, the occupier becomes the defending district\n",
    "        defending_district = occupied_by[closest_enemy]\n",
    "        # Closest enemy is now occupied by the attacking district\n",
    "        occupied_by[closest_enemy] = attacking_district\n",
    "        # If defending district occupies no districts, it is out of the game\n",
    "        if not defending_district in occupied_by.values(): players.remove(defending_district);\n",
    "\n",
    "        #print(f'{attacking_district}, através de {random_district}, conquista {closest_enemy} do {defending_district}')\n",
    "    #end\n",
    "    # Return winning district\n",
    "    return players[0]\n",
    "#end"
   ]
  },
  {
   "cell_type": "code",
   "execution_count": 20,
   "metadata": {},
   "outputs": [],
   "source": [
    "# Run many simulations and keep track of the winners\n",
    "simulations = 10**3\n",
    "wins = { district:0 for district in district_names }\n",
    "for i in range(simulations):\n",
    "    winner = simulate()\n",
    "    wins[winner] += 1\n",
    "#end"
   ]
  },
  {
   "cell_type": "code",
   "execution_count": 22,
   "metadata": {},
   "outputs": [
    {
     "name": "stdout",
     "output_type": "stream",
     "text": [
      "#1\t| Extrema has won 89 wars (8% total)\n",
      "#2\t| Lami has won 87 wars (8% total)\n",
      "#3\t| Santa Rosa de Lima has won 46 wars (4% total)\n",
      "#4\t| Lageado has won 46 wars (4% total)\n",
      "#5\t| São Caetano has won 37 wars (3% total)\n",
      "#6\t| Belém Novo has won 33 wars (3% total)\n",
      "#7\t| Rubem Berta has won 29 wars (2% total)\n",
      "#8\t| Anchieta has won 27 wars (2% total)\n",
      "#9\t| Vila Assunção has won 25 wars (2% total)\n",
      "#10\t| Boa Vista do Sul has won 25 wars (2% total)\n",
      "#11\t| Arquipélago has won 25 wars (2% total)\n",
      "#12\t| Pitinga has won 23 wars (2% total)\n",
      "#13\t| Lomba do Pinheiro has won 22 wars (2% total)\n",
      "#14\t| Morro Santana has won 20 wars (2% total)\n",
      "#15\t| Ipanema has won 19 wars (1% total)\n",
      "#16\t| Serraria has won 16 wars (1% total)\n",
      "#17\t| Mário Quintana has won 16 wars (1% total)\n",
      "#18\t| Jardim Isabel has won 14 wars (1% total)\n",
      "#19\t| Cristal has won 14 wars (1% total)\n",
      "#20\t| Sarandi has won 13 wars (1% total)\n",
      "#21\t| Aberta dos Morros has won 13 wars (1% total)\n",
      "#22\t| Vila Conceição has won 12 wars (1% total)\n",
      "#23\t| Tristeza has won 12 wars (1% total)\n",
      "#24\t| Chapéu do Sol has won 12 wars (1% total)\n",
      "#25\t| Centro has won 12 wars (1% total)\n",
      "#26\t| Pedra Redonda has won 11 wars (1% total)\n",
      "#27\t| Belém Velho has won 11 wars (1% total)\n",
      "#28\t| Restinga has won 10 wars (1% total)\n",
      "#29\t| Navegantes has won 10 wars (1% total)\n",
      "#30\t| Jardim Itu has won 10 wars (1% total)\n",
      "#31\t| Hípica has won 10 wars (1% total)\n",
      "#32\t| Guarujá has won 10 wars (1% total)\n",
      "#33\t| Camaquã has won 10 wars (1% total)\n",
      "#34\t| São Geraldo has won 9 wars (0% total)\n",
      "#35\t| Ponta Grossa has won 9 wars (0% total)\n",
      "#36\t| Sétimo Céu has won 8 wars (0% total)\n",
      "#37\t| Parque Santa Fé has won 8 wars (0% total)\n",
      "#38\t| Moinhos de Vento has won 8 wars (0% total)\n",
      "#39\t| Jardim Dona Leopoldina has won 8 wars (0% total)\n",
      "#40\t| Humaitá has won 8 wars (0% total)\n",
      "#41\t| Espírito Santo has won 8 wars (0% total)\n",
      "#42\t| Campo Novo has won 8 wars (0% total)\n",
      "#43\t| Santa Tereza has won 7 wars (0% total)\n",
      "#44\t| Passo das Pedras has won 7 wars (0% total)\n",
      "#45\t| Floresta has won 7 wars (0% total)\n",
      "#46\t| Farrapos has won 7 wars (0% total)\n",
      "#47\t| Costa e Silva has won 7 wars (0% total)\n",
      "#48\t| Azenha has won 7 wars (0% total)\n",
      "#49\t| Higienópolis has won 6 wars (0% total)\n",
      "#50\t| Vila Nova has won 5 wars (0% total)\n",
      "#51\t| São Sebastião has won 5 wars (0% total)\n",
      "#52\t| Praia de Belas has won 5 wars (0% total)\n",
      "#53\t| Menino Deus has won 5 wars (0% total)\n",
      "#54\t| Jardim Floresta has won 5 wars (0% total)\n",
      "#55\t| Cascata has won 5 wars (0% total)\n",
      "#56\t| Vila São José has won 4 wars (0% total)\n",
      "#57\t| Jardim São Pedro has won 4 wars (0% total)\n",
      "#58\t| Jardim Sabará has won 4 wars (0% total)\n",
      "#59\t| Jardim Europa has won 4 wars (0% total)\n",
      "#60\t| Glória has won 4 wars (0% total)\n",
      "#61\t| Três Figueiras has won 3 wars (0% total)\n",
      "#62\t| Santo Antônio has won 3 wars (0% total)\n",
      "#63\t| Santa Maria Goretti has won 3 wars (0% total)\n",
      "#64\t| Jardim do Salso has won 3 wars (0% total)\n",
      "#65\t| Jardim Lindóia has won 3 wars (0% total)\n",
      "#66\t| Jardim Botânico has won 3 wars (0% total)\n",
      "#67\t| Independência has won 3 wars (0% total)\n",
      "#68\t| Cavalhada has won 3 wars (0% total)\n",
      "#69\t| Bom Jesus has won 3 wars (0% total)\n",
      "#70\t| Agronomia has won 3 wars (0% total)\n",
      "#71\t| Teresópolis has won 2 wars (0% total)\n",
      "#72\t| Santana has won 2 wars (0% total)\n",
      "#73\t| Santa Cecília has won 2 wars (0% total)\n",
      "#74\t| Rio Branco has won 2 wars (0% total)\n",
      "#75\t| Farroupilha has won 2 wars (0% total)\n",
      "#76\t| Cristo Redentor has won 2 wars (0% total)\n",
      "#77\t| Cidade Baixa has won 2 wars (0% total)\n",
      "#78\t| Chácara das Pedras has won 2 wars (0% total)\n",
      "#79\t| Boa Vista has won 2 wars (0% total)\n",
      "#80\t| Auxiliadora has won 2 wars (0% total)\n",
      "#81\t| Vila Ipiranga has won 1 wars (0% total)\n",
      "#82\t| São João has won 1 wars (0% total)\n",
      "#83\t| Passo D'Areia has won 1 wars (0% total)\n",
      "#84\t| Partenon has won 1 wars (0% total)\n",
      "#85\t| Nonoai has won 1 wars (0% total)\n",
      "#86\t| Mont'Serrat has won 1 wars (0% total)\n",
      "#87\t| Jardim Carvalho has won 1 wars (0% total)\n",
      "#88\t| Coronel Aparício Borges has won 1 wars (0% total)\n",
      "#89\t| Bom Fim has won 1 wars (0% total)\n",
      "#90\t| Vila João Pessoa has won 0 wars (0% total)\n",
      "#91\t| Vila Jardim has won 0 wars (0% total)\n",
      "#92\t| Petrópolis has won 0 wars (0% total)\n",
      "#93\t| Medianeira has won 0 wars (0% total)\n",
      "#94\t| Bela Vista has won 0 wars (0% total)\n"
     ]
    },
    {
     "data": {
      "image/png": "[encoded data removed]",
      "text/plain": [
       "<Figure size 432x288 with 1 Axes>"
      ]
     },
     "metadata": {
      "needs_background": "light"
     },
     "output_type": "display_data"
    }
   ],
   "source": [
    "# Print results\n",
    "sorted_districts = sorted(district_names, key=lambda x: wins[x])\n",
    "for i,district in enumerate(sorted_districts[::-1]):\n",
    "    print(f'#{i+1}\\t| {district} has won {wins[district]} wars ({int(100*wins[district]/simulations)}% total)')\n",
    "#end\n",
    "\n",
    "# Plot histogram\n",
    "plt.bar(sorted_districts, [wins[x] for x in sorted_districts])\n",
    "plt.xticks(rotation='vertical')\n",
    "plt.tick_params(labelsize='small')\n",
    "plt.show()"
   ]
  },
  {
   "cell_type": "code",
   "execution_count": null,
   "metadata": {},
   "outputs": [],
   "source": []
  }
 ],
 "metadata": {
  "kernelspec": {
   "display_name": "Python 3",
   "language": "python",
   "name": "python3"
  },
  "language_info": {
   "codemirror_mode": {
    "name": "ipython",
    "version": 3
   },
   "file_extension": ".py",
   "mimetype": "text/x-python",
   "name": "python",
   "nbconvert_exporter": "python",
   "pygments_lexer": "ipython3",
   "version": "3.6.8"
  }
 },
 "nbformat": 4,
 "nbformat_minor": 2
}
